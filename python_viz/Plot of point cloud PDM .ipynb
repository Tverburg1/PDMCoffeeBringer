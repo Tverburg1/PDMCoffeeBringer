{
 "cells": [
  {
   "cell_type": "code",
   "execution_count": 1,
   "id": "a5e43f5f",
   "metadata": {},
   "outputs": [],
   "source": [
    "import numpy as np\n",
    "import matplotlib.pyplot as plt\n",
    "import k3d\n",
    "\n",
    "\n",
    "with open(\"pc.txt\", \"r\") as file:   \n",
    "    lines = [line.rstrip() for line in file]\n",
    "    \n",
    "    pc = []\n",
    "    for line in lines:\n",
    "        xyz = [float(i) for i in line.split()]\n",
    "        pc.append(xyz)\n",
    "    pc = np.array(pc, np.float32)"
   ]
  },
  {
   "cell_type": "code",
   "execution_count": 2,
   "id": "746cc208",
   "metadata": {},
   "outputs": [],
   "source": [
    "with open(\"path.txt\", \"r\") as file:   \n",
    "    lines = [line.rstrip() for line in file]\n",
    "    \n",
    "    path = []\n",
    "    for line in lines:\n",
    "        config = [float(i) for i in line.split()]\n",
    "        xyz = config[:3]\n",
    "        xyz[2]=0\n",
    "        \n",
    "        path.append(xyz)\n",
    "    path = np.array(path, np.float32)\n"
   ]
  },
  {
   "cell_type": "code",
   "execution_count": 3,
   "id": "f0cfcc2e",
   "metadata": {},
   "outputs": [
    {
     "data": {
      "application/vnd.jupyter.widget-view+json": {
       "model_id": "bc3f6d5865f04a6f826ba087523b9a78",
       "version_major": 2,
       "version_minor": 0
      },
      "text/plain": [
       "Output()"
      ]
     },
     "metadata": {},
     "output_type": "display_data"
    }
   ],
   "source": [
    "plot = k3d.plot()\n",
    "start = np.array([0,0,0], np.float32)\n",
    "stop = np.array([3,10,0], np.float32)\n",
    "\n",
    "plot+= k3d.points(positions= pc, point_size= 0.1)\n",
    "plot+= k3d.points(positions= start, point_size= 1, color=0x00ff00)\n",
    "plot+= k3d.points(positions= stop, point_size= 1, color=0xff0000)\n",
    "plot+= k3d.points(positions= path, point_size= 0.1, color=0xff00ff)\n",
    "plot.display()"
   ]
  },
  {
   "cell_type": "code",
   "execution_count": null,
   "id": "36521fbd",
   "metadata": {},
   "outputs": [],
   "source": []
  }
 ],
 "metadata": {
  "kernelspec": {
   "display_name": "Python 3",
   "language": "python",
   "name": "python3"
  },
  "language_info": {
   "codemirror_mode": {
    "name": "ipython",
    "version": 3
   },
   "file_extension": ".py",
   "mimetype": "text/x-python",
   "name": "python",
   "nbconvert_exporter": "python",
   "pygments_lexer": "ipython3",
   "version": "3.7.12"
  }
 },
 "nbformat": 4,
 "nbformat_minor": 5
}
